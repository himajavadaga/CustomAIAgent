{
 "cells": [
  {
   "cell_type": "markdown",
   "id": "201ebc9c-ebed-485f-a225-a81ebab87ce3",
   "metadata": {},
   "source": [
    "## Using OpenAI Tool Calling to create this agent. "
   ]
  },
  {
   "cell_type": "markdown",
   "id": "95eb6e4c-a53b-4600-a557-38b0b1a29400",
   "metadata": {},
   "source": [
    "Initially will create without memory, but eventually we will add memory in. Memory modules play a critical role in AI agents. A memory module can essentially be thought of as a store of the agent’s internal logs as well as interactions with a user. "
   ]
  },
  {
   "cell_type": "code",
   "execution_count": 1,
   "id": "ff396e42-308c-4627-9c4a-6d5d86663ba2",
   "metadata": {},
   "outputs": [],
   "source": [
    "# install all the relevant packages\n",
    "# pip install -U langchain-openai\n",
    "# pip install langchain-agents\n",
    "# pip install langchain-community\n",
    "# pip install langchain-experimental\n",
    "# pip show langchain"
   ]
  },
  {
   "cell_type": "code",
   "execution_count": 99,
   "id": "32bcfc10-79b2-4708-b0cc-0ab43e8ce8ad",
   "metadata": {},
   "outputs": [],
   "source": [
    "## dont forget to remove you API Key \n",
    "import os\n",
    "os.environ['OPENAI_API_KEY']=\"YOUR_API_KEY\""
   ]
  },
  {
   "cell_type": "markdown",
   "id": "6555b9d1-90cb-4347-9151-d0f47f6ff23e",
   "metadata": {},
   "source": [
    "### Load the LLM"
   ]
  },
  {
   "cell_type": "code",
   "execution_count": 100,
   "id": "4cdf9c15-e752-406d-936e-7320d78e4f05",
   "metadata": {},
   "outputs": [],
   "source": [
    "from langchain_openai import ChatOpenAI\n",
    "\n",
    "llm = ChatOpenAI(model=\"gpt-3.5-turbo\", temperature=0)"
   ]
  },
  {
   "cell_type": "code",
   "execution_count": 101,
   "id": "88f32caf-a7b5-4167-897e-047ebda591d9",
   "metadata": {},
   "outputs": [],
   "source": [
    "import sys\n",
    "sys.path.insert(0, '/path/to/module')"
   ]
  },
  {
   "cell_type": "markdown",
   "id": "9b6ee718-d771-4dc2-af91-67fa92c50b1c",
   "metadata": {},
   "source": [
    "### Define Tools"
   ]
  },
  {
   "cell_type": "code",
   "execution_count": 102,
   "id": "957bb7f5-1809-44de-9dd3-fe73e3af2f42",
   "metadata": {},
   "outputs": [],
   "source": [
    "from langchain.agents import tool"
   ]
  },
  {
   "cell_type": "code",
   "execution_count": 103,
   "id": "b1930213-614a-433a-b602-414e4ecb9694",
   "metadata": {},
   "outputs": [
    {
     "data": {
      "text/plain": [
       "3"
      ]
     },
     "execution_count": 103,
     "metadata": {},
     "output_type": "execute_result"
    }
   ],
   "source": [
    "@tool\n",
    "def get_word_length(word: str) ->int:\n",
    "    \"\"\"Returns the length of the word.\"\"\"\n",
    "    return len(word)\n",
    "\n",
    "get_word_length(\"abc\")"
   ]
  },
  {
   "cell_type": "code",
   "execution_count": 104,
   "id": "d45e4c4a-3b21-45e5-88e6-171ca2b0d002",
   "metadata": {},
   "outputs": [],
   "source": [
    "tools = [get_word_length]"
   ]
  },
  {
   "cell_type": "markdown",
   "id": "16fab385-d47f-425c-91bd-f357abe5d020",
   "metadata": {},
   "source": [
    "### Create Prompt"
   ]
  },
  {
   "cell_type": "markdown",
   "id": "f005a4c9-d1f6-44af-91ac-ffd8d288c794",
   "metadata": {},
   "source": [
    "As OpenAI Function Calling is finetuned for tool usage, we don't have to provide instructions on how to reason, or how to output format. We will have two input variables: input and agent_scratchpad. \n",
    "\"input\" is a string containing the user objective. \"agent_scratchpad\" is a sequence of messages that contains the previous agent tool invocations and the corresponding tool outputs."
   ]
  },
  {
   "cell_type": "code",
   "execution_count": 105,
   "id": "4e114179-c8b8-4517-8c5c-4e2a39de6476",
   "metadata": {},
   "outputs": [],
   "source": [
    "from langchain_core.prompts import ChatPromptTemplate, MessagesPlaceholder"
   ]
  },
  {
   "cell_type": "code",
   "execution_count": 106,
   "id": "44556b12-d858-4ace-900b-0e9b435b8b6d",
   "metadata": {},
   "outputs": [],
   "source": [
    "prompt = ChatPromptTemplate.from_messages(\n",
    "    [\n",
    "        (\n",
    "            \"system\",\n",
    "            \"You are very powerful assistant, but don't know current events\",\n",
    "        ),\n",
    "        (\"user\", \"{input}\"),\n",
    "        MessagesPlaceholder(variable_name=\"agent_scratchpad\"),\n",
    "    ]\n",
    ")"
   ]
  },
  {
   "cell_type": "markdown",
   "id": "bdb866e8-61d0-4d8d-ae52-f1c02c3660d7",
   "metadata": {},
   "source": [
    "### Binding tools to LLM"
   ]
  },
  {
   "cell_type": "markdown",
   "id": "c808172c-ce1d-48c4-a101-0e2f2b004d29",
   "metadata": {},
   "source": [
    "OpenAI tool calling LLMs which take tools as a separate argument and have been specifically trained to know when to invoke those tools. To pass in our tools to the agent, we need to format them to OpenAI tool format and pass them to our model. (By binding the functions, we're making sure that they are passed in each time the model in invoked.)"
   ]
  },
  {
   "cell_type": "code",
   "execution_count": 107,
   "id": "dd93ab21-aa88-4a39-b734-5110c3e4520b",
   "metadata": {},
   "outputs": [],
   "source": [
    "llm_with_tools = llm.bind_tools(tools)"
   ]
  },
  {
   "cell_type": "markdown",
   "id": "98ae4594-8250-46f9-9843-26fa1747d53c",
   "metadata": {},
   "source": [
    "### Creating the Agent"
   ]
  },
  {
   "cell_type": "markdown",
   "id": "a5a818c2-abf1-45ff-a2cd-c44325dd2aa7",
   "metadata": {},
   "source": [
    "Import the last two utility functions: a component for formatting intermediate steps(agent action, tool, output pairs) to input messages that can be sent to the model, and a component for converting the output message into an agent action/agent finish"
   ]
  },
  {
   "cell_type": "code",
   "execution_count": 108,
   "id": "5af5ca0b-6cbc-417d-9e6b-a5daf134662d",
   "metadata": {},
   "outputs": [],
   "source": [
    "from langchain.agents.format_scratchpad.openai_tools import (\n",
    "    format_to_openai_tool_messages,\n",
    ")\n",
    "from langchain.agents.output_parsers.openai_tools import OpenAIToolsAgentOutputParser\n",
    "\n",
    "agent = (\n",
    "    {\n",
    "        \"input\": lambda x: x[\"input\"],\n",
    "        \"agent_scratchpad\": lambda x: format_to_openai_tool_messages(\n",
    "            x[\"intermediate_steps\"]\n",
    "        ),\n",
    "    }\n",
    "    | prompt\n",
    "    | llm_with_tools\n",
    "    | OpenAIToolsAgentOutputParser()\n",
    ")"
   ]
  },
  {
   "cell_type": "code",
   "execution_count": 109,
   "id": "c7d64101-23e1-4ffe-8765-50c8d7ca1519",
   "metadata": {},
   "outputs": [],
   "source": [
    "from langchain.agents import AgentExecutor\n",
    "\n",
    "agent_executer = AgentExecutor(agent = agent, tools = tools, verbose = True)"
   ]
  },
  {
   "cell_type": "code",
   "execution_count": 111,
   "id": "7d68fc8a-0ecb-4461-b67d-b9de34f7aa0c",
   "metadata": {},
   "outputs": [
    {
     "name": "stdout",
     "output_type": "stream",
     "text": [
      "\n",
      "\n",
      "\u001b[1m> Entering new AgentExecutor chain...\u001b[0m\n",
      "\u001b[32;1m\u001b[1;3m\n",
      "Invoking: `get_word_length` with `{'word': 'eudca'}`\n",
      "\n",
      "\n",
      "\u001b[0m\u001b[36;1m\u001b[1;3m5\u001b[0m\u001b[32;1m\u001b[1;3mThe word \"eudca\" has 5 letters.\u001b[0m\n",
      "\n",
      "\u001b[1m> Finished chain.\u001b[0m\n"
     ]
    },
    {
     "data": {
      "text/plain": [
       "[{'actions': [ToolAgentAction(tool='get_word_length', tool_input={'word': 'eudca'}, log=\"\\nInvoking: `get_word_length` with `{'word': 'eudca'}`\\n\\n\\n\", message_log=[AIMessageChunk(content='', additional_kwargs={'tool_calls': [{'index': 0, 'id': 'call_3eREewInqqj3ySQZcfyGLY3W', 'function': {'arguments': '{\"word\":\"eudca\"}', 'name': 'get_word_length'}, 'type': 'function'}]}, response_metadata={'finish_reason': 'tool_calls'}, id='run-0498c24d-acfa-491a-b9f3-1d16eb6b3c76', tool_calls=[{'name': 'get_word_length', 'args': {'word': 'eudca'}, 'id': 'call_3eREewInqqj3ySQZcfyGLY3W'}], tool_call_chunks=[{'name': 'get_word_length', 'args': '{\"word\":\"eudca\"}', 'id': 'call_3eREewInqqj3ySQZcfyGLY3W', 'index': 0}])], tool_call_id='call_3eREewInqqj3ySQZcfyGLY3W')],\n",
       "  'messages': [AIMessageChunk(content='', additional_kwargs={'tool_calls': [{'index': 0, 'id': 'call_3eREewInqqj3ySQZcfyGLY3W', 'function': {'arguments': '{\"word\":\"eudca\"}', 'name': 'get_word_length'}, 'type': 'function'}]}, response_metadata={'finish_reason': 'tool_calls'}, id='run-0498c24d-acfa-491a-b9f3-1d16eb6b3c76', tool_calls=[{'name': 'get_word_length', 'args': {'word': 'eudca'}, 'id': 'call_3eREewInqqj3ySQZcfyGLY3W'}], tool_call_chunks=[{'name': 'get_word_length', 'args': '{\"word\":\"eudca\"}', 'id': 'call_3eREewInqqj3ySQZcfyGLY3W', 'index': 0}])]},\n",
       " {'steps': [AgentStep(action=ToolAgentAction(tool='get_word_length', tool_input={'word': 'eudca'}, log=\"\\nInvoking: `get_word_length` with `{'word': 'eudca'}`\\n\\n\\n\", message_log=[AIMessageChunk(content='', additional_kwargs={'tool_calls': [{'index': 0, 'id': 'call_3eREewInqqj3ySQZcfyGLY3W', 'function': {'arguments': '{\"word\":\"eudca\"}', 'name': 'get_word_length'}, 'type': 'function'}]}, response_metadata={'finish_reason': 'tool_calls'}, id='run-0498c24d-acfa-491a-b9f3-1d16eb6b3c76', tool_calls=[{'name': 'get_word_length', 'args': {'word': 'eudca'}, 'id': 'call_3eREewInqqj3ySQZcfyGLY3W'}], tool_call_chunks=[{'name': 'get_word_length', 'args': '{\"word\":\"eudca\"}', 'id': 'call_3eREewInqqj3ySQZcfyGLY3W', 'index': 0}])], tool_call_id='call_3eREewInqqj3ySQZcfyGLY3W'), observation=5)],\n",
       "  'messages': [FunctionMessage(content='5', name='get_word_length')]},\n",
       " {'output': 'The word \"eudca\" has 5 letters.',\n",
       "  'messages': [AIMessage(content='The word \"eudca\" has 5 letters.')]}]"
      ]
     },
     "execution_count": 111,
     "metadata": {},
     "output_type": "execute_result"
    }
   ],
   "source": [
    "list(agent_executer.stream({\"input\": \"How many letters in the word eudca\"}))"
   ]
  },
  {
   "cell_type": "code",
   "execution_count": 112,
   "id": "e77fa7fc-c051-4749-8542-69e28d8a0a0a",
   "metadata": {},
   "outputs": [
    {
     "data": {
      "text/plain": [
       "AIMessage(content='5', response_metadata={'token_usage': {'completion_tokens': 1, 'prompt_tokens': 15, 'total_tokens': 16}, 'model_name': 'gpt-3.5-turbo', 'system_fingerprint': None, 'finish_reason': 'stop', 'logprobs': None}, id='run-a0f98306-4588-4a0f-ab07-8c416a4e6916-0', usage_metadata={'input_tokens': 15, 'output_tokens': 1, 'total_tokens': 16})"
      ]
     },
     "execution_count": 112,
     "metadata": {},
     "output_type": "execute_result"
    }
   ],
   "source": [
    "llm.invoke(\"How many letters in the word educa\")"
   ]
  },
  {
   "cell_type": "markdown",
   "id": "2e69b439-2d1f-4aa9-88aa-b9d5271dc988",
   "metadata": {},
   "source": [
    "### Adding Memory "
   ]
  },
  {
   "cell_type": "markdown",
   "id": "98f293fe-f5be-4152-ba75-e794ddfa8489",
   "metadata": {},
   "source": [
    "This agent is stateless - it doesn't remember anything about previous interactions. In order to do this, we need to do two things:\n",
    "\n",
    "Add a place for memory variables to go in the prompt and keep track of the chat history"
   ]
  },
  {
   "cell_type": "code",
   "execution_count": 114,
   "id": "1ff3ff73-a884-4b65-bc5d-965e1a32d11e",
   "metadata": {},
   "outputs": [],
   "source": [
    "#### adding place for memory in the prompt. By adding a placeholder for messages with the key \"chat_history\"\n",
    "\n",
    "from langchain_core.prompts import MessagesPlaceholder\n",
    "\n",
    "MEMORY_KEY =\"chat_history\"\n",
    "prompt = ChatPromptTemplate.from_messages(\n",
    "    [\n",
    "        (\n",
    "            \"system\",\n",
    "            \"You are very powerful assistant, but bad at calculating lengths of words.\",\n",
    "        ),\n",
    "        MessagesPlaceholder(variable_name = MEMORY_KEY),\n",
    "        (\"user\", \"{input}\"),\n",
    "        MessagesPlaceholder(variable_name = \"agent_scratchpad\"),\n",
    "    ]\n",
    ")"
   ]
  },
  {
   "cell_type": "code",
   "execution_count": 115,
   "id": "d6f829c8-a001-4869-88f8-bd0627571341",
   "metadata": {},
   "outputs": [],
   "source": [
    "#Setting up a list to track the chat history\n",
    "\n",
    "from langchain_core.messages import AIMessage, HumanMessage\n",
    "\n",
    "chat_history = []"
   ]
  },
  {
   "cell_type": "code",
   "execution_count": 118,
   "id": "d5b3676b-68bf-4906-930d-a9da417068fd",
   "metadata": {},
   "outputs": [],
   "source": [
    "agent = (\n",
    "    {\n",
    "        \"input\": lambda x: x[\"input\"],\n",
    "        \"agent_scratchpad\": lambda x: format_to_openai_tool_messages(\n",
    "            x[\"intermediate_steps\"]\n",
    "        ),\n",
    "        \"chat_history\": lambda x:x[\"chat_history\"],\n",
    "    }\n",
    "    | prompt\n",
    "    | llm_with_tools\n",
    "    | OpenAIToolsAgentOutputParser()\n",
    ")\n",
    "\n",
    "agent_executer = AgentExecutor( agent=agent, tools=tools, verbose =True)"
   ]
  },
  {
   "cell_type": "code",
   "execution_count": 119,
   "id": "b4797e2f-c00f-42c8-a245-c254d5c1c7a2",
   "metadata": {},
   "outputs": [
    {
     "name": "stdout",
     "output_type": "stream",
     "text": [
      "\n",
      "\n",
      "\u001b[1m> Entering new AgentExecutor chain...\u001b[0m\n",
      "\u001b[32;1m\u001b[1;3m\n",
      "Invoking: `get_word_length` with `{'word': 'educa'}`\n",
      "\n",
      "\n",
      "\u001b[0m\u001b[36;1m\u001b[1;3m5\u001b[0m\u001b[32;1m\u001b[1;3mThere are 5 letters in the word \"educa\".\u001b[0m\n",
      "\n",
      "\u001b[1m> Finished chain.\u001b[0m\n",
      "\n",
      "\n",
      "\u001b[1m> Entering new AgentExecutor chain...\u001b[0m\n",
      "\u001b[32;1m\u001b[1;3mYes, \"educa\" is not a real word in English. It seems like a shortened or incomplete version of the word \"education\".\u001b[0m\n",
      "\n",
      "\u001b[1m> Finished chain.\u001b[0m\n"
     ]
    },
    {
     "data": {
      "text/plain": [
       "{'input': 'is that a real word?',\n",
       " 'chat_history': [HumanMessage(content='How many letters in the word educa?'),\n",
       "  AIMessage(content='There are 5 letters in the word \"educa\".')],\n",
       " 'output': 'Yes, \"educa\" is not a real word in English. It seems like a shortened or incomplete version of the word \"education\".'}"
      ]
     },
     "execution_count": 119,
     "metadata": {},
     "output_type": "execute_result"
    }
   ],
   "source": [
    "input1 = \"How many letters in the word educa?\"\n",
    "result = agent_executer.invoke({\"input\": input1, \"chat_history\": chat_history})\n",
    "chat_history.extend(\n",
    "    [\n",
    "        HumanMessage(content=input1),\n",
    "        AIMessage(content=result[\"output\"]),\n",
    "    ]\n",
    ")\n",
    "agent_executer.invoke({\"input\": \"is that a real word?\", \"chat_history\":chat_history})"
   ]
  },
  {
   "cell_type": "code",
   "execution_count": null,
   "id": "663f284b-132c-4fe1-8e40-2d0f3da41b56",
   "metadata": {},
   "outputs": [],
   "source": []
  }
 ],
 "metadata": {
  "kernelspec": {
   "display_name": "Python 3 (ipykernel)",
   "language": "python",
   "name": "python3"
  },
  "language_info": {
   "codemirror_mode": {
    "name": "ipython",
    "version": 3
   },
   "file_extension": ".py",
   "mimetype": "text/x-python",
   "name": "python",
   "nbconvert_exporter": "python",
   "pygments_lexer": "ipython3",
   "version": "3.11.7"
  }
 },
 "nbformat": 4,
 "nbformat_minor": 5
}
